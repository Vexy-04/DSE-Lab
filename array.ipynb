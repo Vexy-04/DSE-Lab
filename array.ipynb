{
 "cells": [
  {
   "cell_type": "code",
   "execution_count": 1,
   "metadata": {},
   "outputs": [
    {
     "name": "stdout",
     "output_type": "stream",
     "text": [
      "array a: [1 2 3 4 5]\n",
      "array b: [ 6  7  8  9 10]\n",
      "sum of array: [ 7  9 11 13 15]\n",
      "difference: [-5 -5 -5 -5 -5]\n",
      "product: [ 6 14 24 36 50]\n",
      "division: [0.16666667 0.28571429 0.375      0.44444444 0.5       ]\n",
      "square: [1.         1.41421356 1.73205081 2.         2.23606798]\n",
      "expo: [  2.71828183   7.3890561   20.08553692  54.59815003 148.4131591 ]\n",
      "minimum value a: 1\n",
      "maximum value a: 10\n",
      "mean value a: 3.0\n",
      "standard value a: 1.4142135623730951\n",
      "sum of all ele value a: 15\n",
      "array c:\n",
      "[[1 2]\n",
      " [3 4]\n",
      " [5 6]]\n",
      "reshapd array c(2 rows,3 columns):\n",
      "[[1 2 3]\n",
      " [4 5 6]]\n",
      "array d:\n",
      "transposed array d:\n",
      "[[1 4]\n",
      " [2 5]\n",
      " [3 6]]\n"
     ]
    }
   ],
   "source": [
    "import numpy as np\n",
    "a=np.array([1,2,3,4,5])\n",
    "b=np.array([6,7,8,9,10])\n",
    "\n",
    "#basic operations\n",
    "print (\"array a:\",a)\n",
    "print (\"array b:\",b)\n",
    "print(\"sum of array:\",np.add(a,b))\n",
    "print(\"difference:\",np.subtract(a,b))\n",
    "print(\"product:\",np.multiply(a,b))\n",
    "print(\"division:\",np.divide(a,b))\n",
    "print(\"square:\",np.sqrt(a))\n",
    "print(\"expo:\",np.exp(a))\n",
    "\n",
    "#aggregation op\n",
    "print(\"minimum value a:\",np.min(a))\n",
    "print(\"maximum value a:\",np.max(b))\n",
    "print(\"mean value a:\",np.mean(a))\n",
    "print(\"standard value a:\",np.std(b))\n",
    "print(\"sum of all ele value a:\",np.sum(a))\n",
    "\n",
    "#reshaping array\n",
    "c=np.array([[1,2],[3,4],[5,6]])\n",
    "print(\"array c:\")\n",
    "print(c)\n",
    "print(\"reshapd array c(2 rows,3 columns):\")\n",
    "print(np.reshape(c,(2,3)))\n",
    "\n",
    "#transposing array\n",
    "d=np.array([[1,2,3],[4,5,6]])\n",
    "print(\"array d:\")\n",
    "print(\"transposed array d:\")\n",
    "print(np.transpose(d))"
   ]
  }
 ],
 "metadata": {
  "kernelspec": {
   "display_name": "Python 3",
   "language": "python",
   "name": "python3"
  },
  "language_info": {
   "codemirror_mode": {
    "name": "ipython",
    "version": 3
   },
   "file_extension": ".py",
   "mimetype": "text/x-python",
   "name": "python",
   "nbconvert_exporter": "python",
   "pygments_lexer": "ipython3",
   "version": "3.11.7"
  }
 },
 "nbformat": 4,
 "nbformat_minor": 2
}
