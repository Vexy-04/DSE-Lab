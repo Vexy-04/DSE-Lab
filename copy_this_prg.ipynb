{
 "cells": [
  {
   "cell_type": "code",
   "execution_count": 1,
   "metadata": {},
   "outputs": [
    {
     "name": "stdout",
     "output_type": "stream",
     "text": [
      "Predicted class: 1\n"
     ]
    }
   ],
   "source": [
    "# Import libraries\n",
    "import numpy as np\n",
    "from sklearn.datasets import load_iris\n",
    "\n",
    "# Load iris data\n",
    "iris = load_iris()\n",
    "X = iris.data\n",
    "y = iris.target\n",
    "\n",
    "def sigmoid(x):\n",
    "  return 1 / (1 + np.exp(-x))\n",
    "\n",
    "def cost_function(X, y, theta):\n",
    "  \"\"\"Calculates the cost function (logistic loss)\"\"\"\n",
    "  m = len(y)\n",
    "  hypothesis = sigmoid(X.dot(theta))\n",
    "  cost = -1/m * np.sum(y * np.log(hypothesis) + (1 - y) * np.log(1 - hypothesis))\n",
    "  return cost\n",
    "\n",
    "def gradient_descent(X, y, theta, learning_rate, num_iterations):\n",
    "  \"\"\"Performs gradient descent to update model parameters\"\"\"\n",
    "  m = len(y)\n",
    "  for i in range(num_iterations):\n",
    "    prediction = sigmoid(X.dot(theta))\n",
    "    error = prediction - y\n",
    "    gradient = 1/m * X.T.dot(error)\n",
    "    theta -= learning_rate * gradient\n",
    "  return theta\n",
    "\n",
    "# Initialize parameters\n",
    "num_features = X.shape[1]\n",
    "theta = np.zeros(num_features)\n",
    "\n",
    "# Set hyperparameters\n",
    "learning_rate = 0.01\n",
    "num_iterations = 1000\n",
    "\n",
    "# Train the model\n",
    "theta = gradient_descent(X, y, theta, learning_rate, num_iterations)\n",
    "\n",
    "# Make predictions using the trained model\n",
    "def predict(X):\n",
    "  hypothesis = sigmoid(X.dot(theta))\n",
    "  return np.round(hypothesis).astype(int)\n",
    "\n",
    "# Make predictions on new data (replace with your own data)\n",
    "new_data = np.array([[5.1, 3.5, 1.4, 0.2]])\n",
    "predicted_class = predict(new_data)\n",
    "\n",
    "# Print prediction\n",
    "print(\"Predicted class:\", predicted_class[0])"
   ]
  }
 ],
 "metadata": {
  "kernelspec": {
   "display_name": "Python 3",
   "language": "python",
   "name": "python3"
  },
  "language_info": {
   "codemirror_mode": {
    "name": "ipython",
    "version": 3
   },
   "file_extension": ".py",
   "mimetype": "text/x-python",
   "name": "python",
   "nbconvert_exporter": "python",
   "pygments_lexer": "ipython3",
   "version": "3.10.13"
  }
 },
 "nbformat": 4,
 "nbformat_minor": 2
}
